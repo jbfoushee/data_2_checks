{
 "cells": [
  {
   "cell_type": "code",
   "execution_count": 120,
   "metadata": {},
   "outputs": [],
   "source": [
    "import requests\n",
    "import pandas as pd \n",
    "import numpy as np"
   ]
  },
  {
   "cell_type": "code",
   "execution_count": 131,
   "metadata": {},
   "outputs": [],
   "source": [
    "#Create my own fictual dataset. none of the following instructions apply to the solution\n",
    "#Create a random 10 x 6 table of random numbers\n",
    "df = pd.DataFrame(np.random.randn(10,6))\n",
    "\n",
    "# Make a few areas have NaN values\n",
    "df.iloc[1:3,1] = np.nan\n",
    "df.iloc[5,3] = np.nan\n",
    "df.iloc[7:9,5] = np.nan\n",
    "\n",
    "df[4] = abs(abs(df[4].fillna(0).astype(int)) - 1)\n",
    "df[0] = df[0] + 80\n",
    "df[1] = df[1] + 36\n",
    "df[2] = abs(df[2]) + 2\n",
    "df[3] = abs(df[3]) + 2\n",
    "df[5] = abs(df[5]) + 2"
   ]
  },
  {
   "cell_type": "code",
   "execution_count": 132,
   "metadata": {},
   "outputs": [
    {
     "name": "stdout",
     "output_type": "stream",
     "text": [
      "           0          1         2         3  4         5\n",
      "0  80.914679  35.578959  2.620474  3.349591  1  3.466382\n",
      "1  78.601556        NaN  4.641759  2.833806  1  3.809029\n",
      "2  78.973226        NaN  2.444402  2.014080  1  2.466787\n",
      "3  78.826230  34.596444  2.220137  3.404217  1  2.113818\n",
      "4  79.996784  35.055696  2.499747  2.101007  1  3.629533\n",
      "5  78.187394  37.065302  2.246710       NaN  1  2.144251\n",
      "6  80.803011  35.889693  3.470355  2.071308  0  2.299206\n",
      "7  80.143999  35.236509  2.052439  3.361548  1       NaN\n",
      "8  79.826630  35.404296  2.819728  2.043082  1       NaN\n",
      "9  79.739847  34.940367  3.793548  2.127027  0  3.200789\n"
     ]
    }
   ],
   "source": [
    "print(df)"
   ]
  },
  {
   "cell_type": "code",
   "execution_count": 133,
   "metadata": {},
   "outputs": [
    {
     "name": "stdout",
     "output_type": "stream",
     "text": [
      "    latitude  longitude  order_accuracy  order_speed  likely_to_revisit  \\\n",
      "0  80.914679  35.578959        2.620474     3.349591                  1   \n",
      "1  78.601556        NaN        4.641759     2.833806                  1   \n",
      "2  78.973226        NaN        2.444402     2.014080                  1   \n",
      "3  78.826230  34.596444        2.220137     3.404217                  1   \n",
      "4  79.996784  35.055696        2.499747     2.101007                  1   \n",
      "5  78.187394  37.065302        2.246710          NaN                  1   \n",
      "6  80.803011  35.889693        3.470355     2.071308                  0   \n",
      "7  80.143999  35.236509        2.052439     3.361548                  1   \n",
      "8  79.826630  35.404296        2.819728     2.043082                  1   \n",
      "9  79.739847  34.940367        3.793548     2.127027                  0   \n",
      "\n",
      "   customer_satisfied  \n",
      "0            3.466382  \n",
      "1            3.809029  \n",
      "2            2.466787  \n",
      "3            2.113818  \n",
      "4            3.629533  \n",
      "5            2.144251  \n",
      "6            2.299206  \n",
      "7                 NaN  \n",
      "8                 NaN  \n",
      "9            3.200789  \n"
     ]
    }
   ],
   "source": [
    "#Cleaning: Correct column names\n",
    "\n",
    "new_columns = ['latitude', 'longitude', 'order_accuracy', 'order_speed', 'likely_to_revisit', 'customer_satisfied']\n",
    "df.columns = new_columns\n",
    "\n",
    "print(df)"
   ]
  },
  {
   "cell_type": "code",
   "execution_count": 134,
   "metadata": {},
   "outputs": [
    {
     "name": "stdout",
     "output_type": "stream",
     "text": [
      "    latitude  longitude  order_accuracy  order_speed  likely_to_revisit  \\\n",
      "0  80.914679  35.578959        2.620474     3.349591                  1   \n",
      "3  78.826230  34.596444        2.220137     3.404217                  1   \n",
      "4  79.996784  35.055696        2.499747     2.101007                  1   \n",
      "5  78.187394  37.065302        2.246710          NaN                  1   \n",
      "6  80.803011  35.889693        3.470355     2.071308                  0   \n",
      "7  80.143999  35.236509        2.052439     3.361548                  1   \n",
      "8  79.826630  35.404296        2.819728     2.043082                  1   \n",
      "9  79.739847  34.940367        3.793548     2.127027                  0   \n",
      "\n",
      "   customer_satisfied  \n",
      "0            3.466382  \n",
      "3            2.113818  \n",
      "4            3.629533  \n",
      "5            2.144251  \n",
      "6            2.299206  \n",
      "7                 NaN  \n",
      "8                 NaN  \n",
      "9            3.200789  \n"
     ]
    }
   ],
   "source": [
    "# Cleaning: Drop rows with NaN in the latitude/longitude column, since these are the identifiers\n",
    "df.dropna(axis=0, subset=['latitude','longitude'], inplace=True)\n",
    "\n",
    "print(df)"
   ]
  },
  {
   "cell_type": "code",
   "execution_count": 135,
   "metadata": {},
   "outputs": [
    {
     "name": "stdout",
     "output_type": "stream",
     "text": [
      "    latitude  longitude  order_accuracy  order_speed  likely_to_revisit  \\\n",
      "0  80.914679  35.578959        2.620474     3.349591                  1   \n",
      "3  78.826230  34.596444        2.220137     3.404217                  1   \n",
      "4  79.996784  35.055696        2.499747     2.101007                  1   \n",
      "5  78.187394  37.065302        2.246710     3.000000                  1   \n",
      "6  80.803011  35.889693        3.470355     2.071308                  0   \n",
      "7  80.143999  35.236509        2.052439     3.361548                  1   \n",
      "8  79.826630  35.404296        2.819728     2.043082                  1   \n",
      "9  79.739847  34.940367        3.793548     2.127027                  0   \n",
      "\n",
      "   customer_satisfied  \n",
      "0            3.466382  \n",
      "3            2.113818  \n",
      "4            3.629533  \n",
      "5            2.144251  \n",
      "6            2.299206  \n",
      "7                 NaN  \n",
      "8                 NaN  \n",
      "9            3.200789  \n"
     ]
    }
   ],
   "source": [
    "# Cleaning: Replace the NaN value in the 'order_speed' value with \"3\" (not 0) to balance a fictional 1-5 scale.\n",
    "df['order_speed'] = df['order_speed'].replace(np.nan, 3)\n",
    "\n",
    "print(df)"
   ]
  },
  {
   "cell_type": "code",
   "execution_count": 136,
   "metadata": {},
   "outputs": [
    {
     "name": "stdout",
     "output_type": "stream",
     "text": [
      "    latitude  longitude  order_accuracy  order_speed  likely_to_revisit  \\\n",
      "0  80.914679  35.578959        2.620474     3.349591                  1   \n",
      "3  78.826230  34.596444        2.220137     3.404217                  1   \n",
      "4  79.996784  35.055696        2.499747     2.101007                  1   \n",
      "5  78.187394  37.065302        2.246710     3.000000                  1   \n",
      "6  80.803011  35.889693        3.470355     2.071308                  0   \n",
      "7  80.143999  35.236509        2.052439     3.361548                  1   \n",
      "8  79.826630  35.404296        2.819728     2.043082                  1   \n",
      "9  79.739847  34.940367        3.793548     2.127027                  0   \n",
      "\n",
      "   customer_satisfied  \n",
      "0            3.466382  \n",
      "3            2.113818  \n",
      "4            3.629533  \n",
      "5            2.144251  \n",
      "6            2.299206  \n",
      "7            3.000000  \n",
      "8            3.000000  \n",
      "9            3.200789  \n"
     ]
    }
   ],
   "source": [
    "# Cleaning: Replace the NaN value in the 'order_speed' value with \"3\" (not 0) to balance a fictional 1-5 scale.\n",
    "df['customer_satisfied'] = df['customer_satisfied'].replace(np.nan, 3)\n",
    "\n",
    "print(df)"
   ]
  },
  {
   "cell_type": "code",
   "execution_count": 137,
   "metadata": {},
   "outputs": [
    {
     "name": "stdout",
     "output_type": "stream",
     "text": [
      "    latitude  longitude  order_accuracy  order_speed  likely_to_revisit  \\\n",
      "0  80.914679  35.578959        2.620474     3.349591               True   \n",
      "3  78.826230  34.596444        2.220137     3.404217               True   \n",
      "4  79.996784  35.055696        2.499747     2.101007               True   \n",
      "5  78.187394  37.065302        2.246710     3.000000               True   \n",
      "6  80.803011  35.889693        3.470355     2.071308              False   \n",
      "7  80.143999  35.236509        2.052439     3.361548               True   \n",
      "8  79.826630  35.404296        2.819728     2.043082               True   \n",
      "9  79.739847  34.940367        3.793548     2.127027              False   \n",
      "\n",
      "   customer_satisfied  \n",
      "0            3.466382  \n",
      "3            2.113818  \n",
      "4            3.629533  \n",
      "5            2.144251  \n",
      "6            2.299206  \n",
      "7            3.000000  \n",
      "8            3.000000  \n",
      "9            3.200789  \n"
     ]
    }
   ],
   "source": [
    "# Cleaning: Change all the 1/0 booleans to True/False values\n",
    "df['likely_to_revisit'] = df['likely_to_revisit'].astype(bool)  \n",
    "\n",
    "print(df)"
   ]
  }
 ],
 "metadata": {
  "kernelspec": {
   "display_name": "Python 3.10.0 64-bit",
   "language": "python",
   "name": "python3"
  },
  "language_info": {
   "codemirror_mode": {
    "name": "ipython",
    "version": 3
   },
   "file_extension": ".py",
   "mimetype": "text/x-python",
   "name": "python",
   "nbconvert_exporter": "python",
   "pygments_lexer": "ipython3",
   "version": "3.10.0"
  },
  "orig_nbformat": 4,
  "vscode": {
   "interpreter": {
    "hash": "369f2c481f4da34e4445cda3fffd2e751bd1c4d706f27375911949ba6bb62e1c"
   }
  }
 },
 "nbformat": 4,
 "nbformat_minor": 2
}
